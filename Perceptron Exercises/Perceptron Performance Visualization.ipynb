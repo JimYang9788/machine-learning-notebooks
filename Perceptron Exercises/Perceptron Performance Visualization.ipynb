{
 "cells": [
  {
   "cell_type": "code",
   "execution_count": 1,
   "metadata": {},
   "outputs": [],
   "source": [
    "import numpy as np \n"
   ]
  },
  {
   "cell_type": "markdown",
   "metadata": {},
   "source": [
    "Algorithm 1: The perceptron algorithm.  \n",
    "Input: X∈Rn×d,y∈{−1,1}n,w=0d,b=0,maxpass∈N Output: w,b,mistake  \n",
    "\n",
    "```\n",
    "for t = 1,2,...,max pass do  \n",
    "    mistake(t) ← 0  \n",
    "    for i = 1,2,...,n do\n",
    "        if yi (⟨x_i,w⟩ + b)≤ 0\n",
    "            w ← w + y_i * x_i\n",
    "            b ← b + y_i\n",
    "        mistake(t) ← mistake(t) + 1\n",
    "```\n"
   ]
  },
  {
   "cell_type": "code",
   "execution_count": 8,
   "metadata": {},
   "outputs": [
    {
     "data": {
      "text/plain": [
       "1.0"
      ]
     },
     "execution_count": 8,
     "metadata": {},
     "output_type": "execute_result"
    }
   ],
   "source": [
    "dataset[4][-1]"
   ]
  },
  {
   "cell_type": "code",
   "execution_count": 4,
   "metadata": {},
   "outputs": [],
   "source": [
    "# Loads the dataset \n",
    "dataset = np.loadtxt('spambase.data',delimiter=',')"
   ]
  },
  {
   "cell_type": "code",
   "execution_count": 23,
   "metadata": {},
   "outputs": [],
   "source": [
    "b = 0\n",
    "w = np.zeros(shape=(1,57))\n",
    "# for t in range (1, 500):\n",
    "#     for i in range (len(dataset)):\n",
    "#         y_i = dataset[i][-1]\n",
    "#         x_i = dataset[i][0:-1]\n",
    "        \n",
    "#         if y_i * (np.dot (x_i, w) + b) <= 0:\n",
    "            \n",
    "#             w = np.add (w, np.dot (y_i, x_i))\n",
    "#             b = b + y_i\n",
    "            "
   ]
  },
  {
   "cell_type": "code",
   "execution_count": 25,
   "metadata": {},
   "outputs": [
    {
     "data": {
      "text/plain": [
       "array([0.])"
      ]
     },
     "execution_count": 25,
     "metadata": {},
     "output_type": "execute_result"
    }
   ],
   "source": [
    "np.dot (w,dataset[2][0:-1])"
   ]
  },
  {
   "cell_type": "code",
   "execution_count": null,
   "metadata": {},
   "outputs": [],
   "source": []
  },
  {
   "cell_type": "code",
   "execution_count": null,
   "metadata": {},
   "outputs": [],
   "source": []
  }
 ],
 "metadata": {
  "kernelspec": {
   "display_name": "Python 3",
   "language": "python",
   "name": "python3"
  },
  "language_info": {
   "codemirror_mode": {
    "name": "ipython",
    "version": 3
   },
   "file_extension": ".py",
   "mimetype": "text/x-python",
   "name": "python",
   "nbconvert_exporter": "python",
   "pygments_lexer": "ipython3",
   "version": "3.7.6"
  }
 },
 "nbformat": 4,
 "nbformat_minor": 4
}
